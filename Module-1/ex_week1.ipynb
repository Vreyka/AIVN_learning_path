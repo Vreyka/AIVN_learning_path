{
 "cells": [
  {
   "cell_type": "markdown",
   "id": "39d2a44c",
   "metadata": {},
   "source": [
    "## Ex1. F1-Score"
   ]
  },
  {
   "cell_type": "code",
   "execution_count": 27,
   "id": "9d786816",
   "metadata": {},
   "outputs": [],
   "source": [
    "def evaluate_f1_components(tp: int, fp: int, fn: int) -> tuple:\n",
    "    \"\"\"\n",
    "    Calculate the components of the F1 score: precision, recall, and F1 score.\n",
    "\n",
    "    Args:\n",
    "        tp (int): True Positives\n",
    "        fp (int): False Positives\n",
    "        fn (int): False Negatives\n",
    "\n",
    "    Returns:\n",
    "        tuple: (precision, recall, f1_score)\n",
    "    \"\"\"\n",
    "    # Exception = \"Input values must be non-negative integers.\"\n",
    "    # if not all(isinstance(x, int) and x >= 0 for x in (tp, fp, fn)):\n",
    "    #     raise ValueError(Exception)\n",
    "    errors = []\n",
    "    if not isinstance(tp, int):\n",
    "        errors.append(\"True Positives must be an integer.\")\n",
    "    if not isinstance(fp, int):\n",
    "        errors.append(\"False Positives must be an integer.\")\n",
    "    if not isinstance(fn, int):\n",
    "        errors.append(\"False Negatives must be an integer.\")\n",
    "    \n",
    "    try:\n",
    "        # if not isinstance(tp, int):\n",
    "        #     raise ValueError(\"True Positives must be an integer.\")\n",
    "        # if not isinstance(fp, int):\n",
    "        #     raise ValueError(\"False Positives must be an integer.\") \n",
    "        # if not isinstance(fn, int):\n",
    "        #     raise ValueError(\"False Negatives must be an integer.\")\n",
    "        if errors:\n",
    "            raise ValueError(\"\\n\".join(errors))\n",
    "            \n",
    "    except ValueError as e:\n",
    "        print(\"Lỗi xảy ra:\", e)\n",
    "        return\n",
    "\n",
    "    if tp + fp == 0:\n",
    "        precision = 0.0\n",
    "    else:\n",
    "        precision = tp / (tp + fp)\n",
    "\n",
    "    if tp + fn == 0:\n",
    "        recall = 0.0\n",
    "    else:\n",
    "        recall = tp / (tp + fn)\n",
    "\n",
    "    if precision + recall == 0:\n",
    "        f1_score = 0.0\n",
    "    else:\n",
    "        f1_score = 2 * (precision * recall) / (precision + recall)\n",
    "\n",
    "    print(f\"Precision: {precision},\\n Recall: {recall},\\n F1 Score: {f1_score}\")"
   ]
  },
  {
   "cell_type": "code",
   "execution_count": 29,
   "id": "8894a9a5",
   "metadata": {},
   "outputs": [
    {
     "name": "stdout",
     "output_type": "stream",
     "text": [
      "Precision: 0.6666666666666666,\n",
      " Recall: 0.8333333333333334,\n",
      " F1 Score: 0.7407407407407408\n",
      "Precision: 0.0,\n",
      " Recall: 0.0,\n",
      " F1 Score: 0.0\n",
      "Precision: 0.0,\n",
      " Recall: 0.0,\n",
      " F1 Score: 0.0\n",
      "Precision: 1.0,\n",
      " Recall: 1.0,\n",
      " F1 Score: 1.0\n",
      "Precision: 0.6666666666666666,\n",
      " Recall: 1.0,\n",
      " F1 Score: 0.8\n",
      "Precision: 0.0,\n",
      " Recall: 0.0,\n",
      " F1 Score: 0.0\n",
      "Precision: 1.0,\n",
      " Recall: 0.6666666666666666,\n",
      " F1 Score: 0.8\n",
      "Precision: 0.0,\n",
      " Recall: 0.0,\n",
      " F1 Score: 0.0\n",
      "Precision: 0.0,\n",
      " Recall: 0.0,\n",
      " F1 Score: 0.0\n",
      "Precision: 1.0,\n",
      " Recall: 1.0,\n",
      " F1 Score: 1.0\n",
      "Precision: 0.0,\n",
      " Recall: 0.0,\n",
      " F1 Score: 0.0\n",
      "Precision: 0.5,\n",
      " Recall: 0.5,\n",
      " F1 Score: 0.5\n",
      "Precision: 0.5,\n",
      " Recall: 0.5,\n",
      " F1 Score: 0.5\n",
      "Precision: 0.6666666666666666,\n",
      " Recall: 0.8,\n",
      " F1 Score: 0.7272727272727272\n",
      "Precision: 0.6666666666666666,\n",
      " Recall: 0.8,\n",
      " F1 Score: 0.7272727272727272\n",
      "Precision: 0.6666666666666666,\n",
      " Recall: 0.8,\n",
      " F1 Score: 0.7272727272727272\n",
      "Precision: 0.6666666666666666,\n",
      " Recall: 0.8,\n",
      " F1 Score: 0.7272727272727272\n",
      "Precision: 0.6666666666666666,\n",
      " Recall: 0.8,\n",
      " F1 Score: 0.7272727272727272\n",
      "Precision: 0.6666666666666666,\n",
      " Recall: 0.8,\n",
      " F1 Score: 0.7272727272727272\n",
      "Precision: 0.6666666666666666,\n",
      " Recall: 0.8,\n",
      " F1 Score: 0.7272727272727272\n",
      "Lỗi xảy ra: False Positives must be an integer.\n",
      "False Negatives must be an integer.\n",
      "Lỗi xảy ra: True Positives must be an integer.\n",
      "False Positives must be an integer.\n",
      "False Negatives must be an integer.\n",
      "Precision: 1.0,\n",
      " Recall: 1.0,\n",
      " F1 Score: 1.0\n"
     ]
    }
   ],
   "source": [
    "evaluate_f1_components(10, 5, 2)  # Example usage\n",
    "evaluate_f1_components(0, 0, 0)    # Edge case with no predictions\n",
    "evaluate_f1_components(0, 5, 2)    # Edge case with no true positives\n",
    "evaluate_f1_components(10, 0, 0)   # Edge case with no false positives\n",
    "evaluate_f1_components(10, 5, 0)   # Edge case with no false negatives\n",
    "evaluate_f1_components(0, 0, 2)    # Edge case with no true positives and false positives\n",
    "evaluate_f1_components(10, 0, 5)   # Edge case with no false positives and false negatives\n",
    "evaluate_f1_components(0, 5, 0)    # Edge case with no  true positives and false negatives\n",
    "evaluate_f1_components(0, 0, 5)    # Edge case with no true positives and false negatives\n",
    "evaluate_f1_components(5, 0, 0)    # Edge case with no false positives and false negatives\n",
    "evaluate_f1_components(0, 5, 5)    # Edge case with no true positives and false negatives\n",
    "evaluate_f1_components(5, 5, 5)    # Edge case with all components present\n",
    "evaluate_f1_components(10, 10, 10) # Edge case with all components present\n",
    "evaluate_f1_components(100, 50, 25) # Larger numbers for robustness testing \n",
    "evaluate_f1_components(1000, 500, 250) # Larger numbers for robustness testing\n",
    "evaluate_f1_components(10000, 5000, 2500) # Larger numbers for robustness testing\n",
    "evaluate_f1_components(100000, 50000, 25000) # Larger numbers for robustness testing\n",
    "evaluate_f1_components(1000000, 500000, 250000) # Larger numbers for robustness testing\n",
    "evaluate_f1_components(10000000, 5000000, 2500000) # Larger numbers for robustness testing\n",
    "evaluate_f1_components(100000000, 50000000, 25000000) # Larger numbers for robustness testing\n",
    "evaluate_f1_components(1, 0.1, 0.1)  # Edge case with float inputs (should raise ValueError)\n",
    "evaluate_f1_components(1.0, 0.5, 0.2)  # Edge case with float inputs (should raise ValueError)\n",
    "evaluate_f1_components(1, 0, 0)  "
   ]
  },
  {
   "cell_type": "markdown",
   "id": "29a7713c",
   "metadata": {},
   "source": [
    "## Ex2. Activation function"
   ]
  },
  {
   "cell_type": "code",
   "execution_count": 33,
   "id": "383ec0cc",
   "metadata": {},
   "outputs": [],
   "source": [
    "x, fun = input(\"Enter x and function (e.g., 0.5 sigmoid): \").split()"
   ]
  },
  {
   "cell_type": "code",
   "execution_count": 39,
   "id": "6332af24",
   "metadata": {},
   "outputs": [
    {
     "data": {
      "text/plain": [
       "True"
      ]
     },
     "execution_count": 39,
     "metadata": {},
     "output_type": "execute_result"
    }
   ],
   "source": [
    "def is_number(s):\n",
    "    try:\n",
    "        float(s)\n",
    "        return True\n",
    "    except ValueError:\n",
    "        return False\n",
    "    \n",
    "is_number(1.9)"
   ]
  },
  {
   "cell_type": "code",
   "execution_count": 1,
   "id": "7a4bc046",
   "metadata": {},
   "outputs": [],
   "source": [
    "def interactive_activation_function():\n",
    "    import numpy as np\n",
    "    x = input(\"Input x:\")\n",
    "    \n",
    "    if not is_number(x):\n",
    "        print(\"x must be a number.\")\n",
    "        return\n",
    "    \n",
    "    fun = input(\"Input activation function (sigmoid | relu | elu):\")\n",
    "    \n",
    "    if fun==\"sigmoid\":\n",
    "        x = float(x)\n",
    "        result = 1 / (1 + np.exp(-x))\n",
    "        print(f\"sigmoid: f({x}) = {result}\")\n",
    "    elif fun==\"relu\":\n",
    "        x = float(x)\n",
    "        result = max(0, x)\n",
    "        print(f\"relu: f({x}) = {result}\")\n",
    "    elif fun==\"elu\":\n",
    "        x = float(x)\n",
    "        alpha = 1.0 \n",
    "        result = np.where((x>=0) , x, (alpha * (np.exp(x) - 1)))\n",
    "        print(f\"elu: f({x}) = {result}\")\n",
    "    else:\n",
    "        print(f\"{fun} is not supported.\")\n",
    "        return"
   ]
  },
  {
   "cell_type": "code",
   "execution_count": 70,
   "id": "e5b26972",
   "metadata": {},
   "outputs": [
    {
     "name": "stdout",
     "output_type": "stream",
     "text": [
      "elu: f(10000.0) = 10000.0\n"
     ]
    },
    {
     "name": "stderr",
     "output_type": "stream",
     "text": [
      "C:\\Users\\Admin\\AppData\\Local\\Temp\\ipykernel_1076\\2913016861.py:22: RuntimeWarning: overflow encountered in exp\n",
      "  result = np.where((x>=0) , x, (alpha * (np.exp(x) - 1)))\n"
     ]
    }
   ],
   "source": [
    "interactive_activation_function()"
   ]
  },
  {
   "cell_type": "markdown",
   "id": "9a415728",
   "metadata": {},
   "source": [
    "## Ex3. Loss Func"
   ]
  },
  {
   "cell_type": "code",
   "execution_count": 29,
   "id": "dfa57d3c",
   "metadata": {},
   "outputs": [
    {
     "data": {
      "text/plain": [
       "0.19339565627704003"
      ]
     },
     "execution_count": 29,
     "metadata": {},
     "output_type": "execute_result"
    }
   ],
   "source": [
    "txt = \"565.543\"\n",
    "\n",
    "x = txt.isnumeric()\n",
    "import random\n",
    "random.random()"
   ]
  },
  {
   "cell_type": "code",
   "execution_count": 28,
   "id": "06d823b6",
   "metadata": {},
   "outputs": [
    {
     "data": {
      "text/plain": [
       "np.float64(9.0)"
      ]
     },
     "execution_count": 28,
     "metadata": {},
     "output_type": "execute_result"
    }
   ],
   "source": [
    "def mse(y_true, y_pred):\n",
    "        import numpy as np\n",
    "        y_true = np.array(y_true)\n",
    "        y_pred = np.array(y_pred)\n",
    "        return ((y_true - y_pred) ** 2).mean()\n",
    "    \n",
    "x = 5\n",
    "y = 2\n",
    "mse(x, y)  # Example usage"
   ]
  },
  {
   "cell_type": "code",
   "execution_count": 30,
   "id": "02c29647",
   "metadata": {},
   "outputs": [
    {
     "name": "stdout",
     "output_type": "stream",
     "text": [
      "1\n",
      "2\n",
      "3\n",
      "4\n",
      "5\n"
     ]
    }
   ],
   "source": [
    "for i in range(1, 6):\n",
    "    print(i)"
   ]
  },
  {
   "cell_type": "code",
   "execution_count": null,
   "id": "06d33e48",
   "metadata": {},
   "outputs": [],
   "source": [
    "def cal_activation_function():\n",
    "    import random\n",
    "    def mse(y_true, y_pred):\n",
    "        return ((y_true - y_pred) ** 2)\n",
    "    def mae(y_true, y_pred):\n",
    "        return abs(y_true - y_pred)\n",
    "    def rmse(y_true, y_pred):\n",
    "        return ((y_true - y_pred) ** 2) ** 0.5\n",
    "    \n",
    "    def generate(n, f, name):\n",
    "        outs = 0\n",
    "        for i in range(n):\n",
    "            x = random.uniform(0, 10)\n",
    "            y = random.uniform(0, 10)\n",
    "            \n",
    "            out = f(x, y)\n",
    "            print(f\"loss_name: {name}, sample: {i}: pred: {x} target: {y} loss: {out}\")\n",
    "            \n",
    "            if name == \"RMSE\":\n",
    "                out = out**2\n",
    "            outs += out\n",
    "        outs = outs / n \n",
    "        if name == \"RMSE\":\n",
    "            outs = outs**0.5\n",
    "        return outs\n",
    "              \n",
    "    n = input(\"Input number of samples (integer number) which are generated:\")\n",
    "    if not n.isnumeric():\n",
    "        print(\"number of samples must be an integer number\")\n",
    "        return\n",
    "    \n",
    "    fun = input(\"Input loss name:\").upper()\n",
    "    if fun == \"MSE\":\n",
    "        f = mse\n",
    "    elif fun == \"MAE\":\n",
    "        f = mae\n",
    "    elif fun == \"RMSE\":\n",
    "        f = rmse\n",
    "    else:\n",
    "        print(f\"{fun} is not supported.\")\n",
    "        return\n",
    "    final = generate(int(n), f, name=fun)\n",
    "    print(f\"Final {fun}: {final}\")"
   ]
  },
  {
   "cell_type": "code",
   "execution_count": 41,
   "id": "972b6e0d",
   "metadata": {},
   "outputs": [
    {
     "name": "stdout",
     "output_type": "stream",
     "text": [
      "loss_name: MAE, sample: 0: pred: 3.5867715725877183 target: 2.783348416064321 loss: 0.8034231565233974\n",
      "loss_name: MAE, sample: 1: pred: 9.727886356632865 target: 2.632762999878552 loss: 7.095123356754313\n",
      "loss_name: MAE, sample: 2: pred: 8.592157550902796 target: 0.9113237514788652 loss: 7.68083379942393\n",
      "Final MAE: 5.193126770900547\n"
     ]
    }
   ],
   "source": [
    "cal_activation_function()"
   ]
  },
  {
   "cell_type": "markdown",
   "id": "f9dc84fd",
   "metadata": {},
   "source": [
    "## 4. Trigonometric"
   ]
  },
  {
   "cell_type": "code",
   "execution_count": 42,
   "id": "8d73baa4",
   "metadata": {},
   "outputs": [],
   "source": [
    "def factorial(n):\n",
    "    \"\"\"\n",
    "    Calculate the factorial of a number n.\n",
    "    \n",
    "    Args:\n",
    "        n (int): The number to calculate the factorial for.\n",
    "        \n",
    "    Returns:\n",
    "        int: The factorial of n.\n",
    "    \"\"\"\n",
    "    if not isinstance(n, int) or n < 0:\n",
    "        raise ValueError(\"Input must be a non-negative integer.\")\n",
    "    \n",
    "    if n == 0 or n == 1:\n",
    "        return 1\n",
    "    else:\n",
    "        return n * factorial(n - 1)"
   ]
  },
  {
   "cell_type": "code",
   "execution_count": 44,
   "id": "10ceb347",
   "metadata": {},
   "outputs": [],
   "source": [
    "def approx_sin(x, n_terms=10):\n",
    "    \"\"\"\n",
    "    Approximate the sine function using Taylor series expansion.\n",
    "    \n",
    "    Args:\n",
    "        x (float): The input value in radians.\n",
    "        n_terms (int): The number of terms in the Taylor series.\n",
    "        \n",
    "    Returns:\n",
    "        float: The approximate value of sin(x).\n",
    "    \"\"\"\n",
    "    sin_x = 0\n",
    "    for n in range(n_terms):\n",
    "        term = ((-1) ** n) * (x ** (2 * n + 1)) / factorial(2 * n + 1)\n",
    "        sin_x += term\n",
    "    return sin_x\n",
    "\n",
    "def approx_cos(x, n_terms=10):\n",
    "    \"\"\"\n",
    "    Approximate the cosine function using Taylor series expansion.\n",
    "    \n",
    "    Args:\n",
    "        x (float): The input value in radians.\n",
    "        n_terms (int): The number of terms in the Taylor series.\n",
    "        \n",
    "    Returns:\n",
    "        float: The approximate value of cos(x).\n",
    "    \"\"\"\n",
    "    cos_x = 0\n",
    "    for n in range(n_terms):\n",
    "        term = ((-1) ** n) * (x ** (2 * n)) / factorial(2 * n)\n",
    "        cos_x += term\n",
    "    return cos_x\n",
    "\n",
    "def approx_sinh(x, n_terms=10):\n",
    "    \"\"\"\n",
    "    Approximate the hyperbolic sine function using Taylor series expansion.\n",
    "    \n",
    "    Args:\n",
    "        x (float): The input value.\n",
    "        n_terms (int): The number of terms in the Taylor series.\n",
    "        \n",
    "    Returns:\n",
    "        float: The approximate value of sinh(x).\n",
    "    \"\"\"\n",
    "    sinh_x = 0\n",
    "    for n in range(n_terms):\n",
    "        term = (x ** (2 * n + 1)) / factorial(2 * n + 1)\n",
    "        sinh_x += term\n",
    "    return sinh_x\n",
    "\n",
    "def approx_cosh(x, n_terms=10):\n",
    "    \"\"\"\n",
    "    Approximate the hyperbolic cosine function using Taylor series expansion.\n",
    "    \n",
    "    Args:\n",
    "        x (float): The input value.\n",
    "        n_terms (int): The number of terms in the Taylor series.\n",
    "        \n",
    "    Returns:\n",
    "        float: The approximate value of cosh(x).\n",
    "    \"\"\"\n",
    "    cosh_x = 0\n",
    "    for n in range(n_terms):\n",
    "        term = (x ** (2 * n)) / factorial(2 * n)\n",
    "        cosh_x += term\n",
    "    return cosh_x\n",
    "    "
   ]
  },
  {
   "cell_type": "code",
   "execution_count": 46,
   "id": "92c0b9e1",
   "metadata": {},
   "outputs": [
    {
     "data": {
      "text/plain": [
       "0.001592652393160744"
      ]
     },
     "execution_count": 46,
     "metadata": {},
     "output_type": "execute_result"
    }
   ],
   "source": [
    "approx_sin(3.14)"
   ]
  },
  {
   "cell_type": "code",
   "execution_count": 47,
   "id": "2c36cc12",
   "metadata": {},
   "outputs": [
    {
     "data": {
      "text/plain": [
       "-0.9999987352210833"
      ]
     },
     "execution_count": 47,
     "metadata": {},
     "output_type": "execute_result"
    }
   ],
   "source": [
    "approx_cos(3.14)"
   ]
  },
  {
   "cell_type": "code",
   "execution_count": 48,
   "id": "b243fbdd",
   "metadata": {},
   "outputs": [
    {
     "data": {
      "text/plain": [
       "11.530292029865986"
      ]
     },
     "execution_count": 48,
     "metadata": {},
     "output_type": "execute_result"
    }
   ],
   "source": [
    "approx_sinh(3.14)"
   ]
  },
  {
   "cell_type": "code",
   "execution_count": 49,
   "id": "e452d7de",
   "metadata": {},
   "outputs": [
    {
     "data": {
      "text/plain": [
       "11.573574824666185"
      ]
     },
     "execution_count": 49,
     "metadata": {},
     "output_type": "execute_result"
    }
   ],
   "source": [
    "approx_cosh(3.14)"
   ]
  }
 ],
 "metadata": {
  "kernelspec": {
   "display_name": "aivn",
   "language": "python",
   "name": "python3"
  },
  "language_info": {
   "codemirror_mode": {
    "name": "ipython",
    "version": 3
   },
   "file_extension": ".py",
   "mimetype": "text/x-python",
   "name": "python",
   "nbconvert_exporter": "python",
   "pygments_lexer": "ipython3",
   "version": "3.10.18"
  }
 },
 "nbformat": 4,
 "nbformat_minor": 5
}
